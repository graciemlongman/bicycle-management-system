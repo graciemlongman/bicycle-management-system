{
 "cells": [
  {
   "cell_type": "markdown",
   "id": "7bd3e632",
   "metadata": {},
   "source": [
    "# COP501 CW - Bicycle Rental Management System\n",
    "###### Gracie Longman F434523"
   ]
  },
  {
   "cell_type": "markdown",
   "id": "7671796e",
   "metadata": {},
   "source": [
    "#### NOTE: Please run menu.ipynb in jupyterlab if possible. The textboxes do not work in jupyter notebook - they convert the cell to markdown. \n",
    "If menu.ipynb must be run in notebook, it is possible to get around the textbox issue by pasting your entry into the textbox instead of typing."
   ]
  },
  {
   "cell_type": "markdown",
   "id": "f754a644-6ce4-456a-a008-08ba357c82fa",
   "metadata": {},
   "source": [
    "--------------------------"
   ]
  },
  {
   "cell_type": "markdown",
   "id": "a5e838c7-0c83-4559-bdd5-478d996a335e",
   "metadata": {},
   "source": [
    "#### Imports:"
   ]
  },
  {
   "cell_type": "code",
   "execution_count": 1,
   "id": "f8a8ae14-80b3-47d6-aa9d-956d3b9eb079",
   "metadata": {},
   "outputs": [],
   "source": [
    "from database import *\n",
    "\n",
    "from bikeSearch import *\n",
    "from bikeRent import *\n",
    "from bikeReturn import *\n",
    "from bikeSelect import *\n",
    "\n",
    "import ipywidgets as widgets\n",
    "import pickle\n",
    "\n",
    "from datetime import date"
   ]
  },
  {
   "cell_type": "markdown",
   "id": "d360b8f4-707a-4d1d-9377-ea53c23171df",
   "metadata": {},
   "source": [
    "#### Connect to Database:"
   ]
  },
  {
   "cell_type": "code",
   "execution_count": 2,
   "id": "7c4e288c",
   "metadata": {},
   "outputs": [
    {
     "name": "stdout",
     "output_type": "stream",
     "text": [
      "Connected to database.db\n"
     ]
    }
   ],
   "source": [
    "database = Database('database.db')"
   ]
  },
  {
   "cell_type": "markdown",
   "id": "03772a50-6ecd-42b0-b328-f76f3cc6bdea",
   "metadata": {},
   "source": [
    "#### Run this cell for the GUI"
   ]
  },
  {
   "cell_type": "code",
   "execution_count": 5,
   "id": "b723f4c9-dd10-4599-802b-d3f904098952",
   "metadata": {},
   "outputs": [
    {
     "data": {
      "application/vnd.jupyter.widget-view+json": {
       "model_id": "431e2055fafc4b18b52604a3615a0ab0",
       "version_major": 2,
       "version_minor": 0
      },
      "text/plain": [
       "HTML(value='<h1>Welcome to the Bicycle Rental Management System!</h1><h3>Please select an option below</h3>')"
      ]
     },
     "metadata": {},
     "output_type": "display_data"
    },
    {
     "data": {
      "application/vnd.jupyter.widget-view+json": {
       "model_id": "a1fe5f6d5f93431abb312f3c960e99a4",
       "version_major": 2,
       "version_minor": 0
      },
      "text/plain": [
       "VBox(children=(HBox(children=(Button(description='Search', style=ButtonStyle(button_color='lightblue')), Butto…"
      ]
     },
     "execution_count": 5,
     "metadata": {},
     "output_type": "execute_result"
    }
   ],
   "source": [
    "button_style = {'button_color': 'lightblue',\n",
    "               'border-radius': '30px'}\n",
    "\n",
    "\n",
    "def clicked_search(btn):\n",
    "    message = widgets.HTML(value='<h3>Search by brand, type or size for bikes!</h3>')\n",
    "\n",
    "    search_term = widgets.Dropdown(options = ['Brand', 'Type', 'Size'],\n",
    "                                description = 'Search by:')\n",
    "    \n",
    "    specific_search_term = widgets.Dropdown(options = ['Trek', 'Cannondale','Bianchi','Giant','Specialized'],\n",
    "                                            description = 'Select')\n",
    "    \n",
    "    def update_specific_search_box(change):\n",
    "        if search_term.value.lower() == 'brand':\n",
    "            specific_search_term.options = ['Trek', 'Cannondale','Bianchi','Giant','Specialized']\n",
    "\n",
    "        elif search_term.value.lower() == 'type':\n",
    "            specific_search_term.options = ['Road Bike', 'Mountain Bike', 'Electric Bike']\n",
    "\n",
    "        else:\n",
    "            specific_search_term.options = ['Small', 'Medium', 'Large']\n",
    "\n",
    "        \n",
    "    search_term.observe(update_specific_search_box, names='value')\n",
    "\n",
    "    submit_button = widgets.Button(description=\"Submit Search\", style=button_style)\n",
    "    \n",
    "    # Function to execute when Submit button is clicked\n",
    "    def on_submit(submit_btn):\n",
    "        term_input = search_term.value.lower()\n",
    "        param_input = specific_search_term.value.lower()\n",
    "        # Call the BikeSearch function only after values are provided\n",
    "        out = BikeSearch().search(database, term=term_input, parameter=param_input)\n",
    "        with output:\n",
    "            display(out)\n",
    "        \n",
    "    # Link the on_submit function to the Submit button\n",
    "    submit_button.on_click(on_submit)\n",
    "    with output:\n",
    "        output.clear_output()\n",
    "        display(message, search_term, specific_search_term, submit_button)\n",
    "\n",
    "\n",
    "def clicked_rent(btn):\n",
    "    message = widgets.HTML(value='<h3>Rent your chosen bike:</h3>')\n",
    "    member_id_textbox = widgets.Text(value='',placeholder='e.g., 1001',\n",
    "                                     description='Member ID:',disabled=False)\n",
    "    \n",
    "    bicycle_id_textbox = widgets.Text(value='', placeholder='e.g., 10',\n",
    "                                        description='Bicycle ID:',disabled=False)\n",
    "    \n",
    "    rent_date_textbox = widgets.DatePicker(description='Rent Date', disabled=False)\n",
    "    #widgets.Text(value='', placeholder = 'Format YYYY/MM/DD',\n",
    "     #                                 description = 'Rent date:', disabled=False)\n",
    "    days_textbox = widgets.Text(value='', placeholder = 'e.g., 10',\n",
    "                                      description = 'No. of days?', disabled=False)\n",
    "\n",
    "    submit_rent_button = widgets.Button(description=\"Rent\", style=button_style)\n",
    "\n",
    "    \n",
    "    # Function to execute when Submit button is clicked\n",
    "    def on_submit(submit_btn):\n",
    "        memID_input = member_id_textbox.value\n",
    "        bicID_input = bicycle_id_textbox.value\n",
    "\n",
    "        rent_date = rent_date_textbox.value\n",
    "        rental_time = days_textbox.value\n",
    "        # Call the BikeSearch function only after values are provided\n",
    "        out = BikeRent().rent(database, member_id = memID_input, bicycle_id = bicID_input,\n",
    "                        rent_date_ = rent_date, rent_duration = rental_time)\n",
    "        with output:   \n",
    "            display(out)\n",
    "        \n",
    "    # Link the on_submit function to the Submit button\n",
    "    submit_rent_button.on_click(on_submit)\n",
    "    rent_vbox = widgets.VBox([message, member_id_textbox, bicycle_id_textbox, rent_date_textbox, days_textbox, submit_rent_button])\n",
    "\n",
    "    with output:\n",
    "        output.clear_output()\n",
    "        display(rent_vbox)\n",
    "\n",
    "\n",
    "def clicked_return(btn):\n",
    "    message = widgets.HTML(value='<h3>Return your bike:</h3>')\n",
    "    bicycle_id_textbox = widgets.Text(value='', placeholder = 'e.g., 10',\n",
    "                                      description = 'Bicycle ID:', disabled=False)\n",
    "\n",
    "    return_date_textbox = widgets.Text(value='',placeholder = 'Format YYYY/MM/DD',\n",
    "                                      description = 'Return date', disabled=False)\n",
    "\n",
    "    condition_dropdown = widgets.Dropdown(options = ['New', 'Good', 'Damaged'],\n",
    "                                description = 'Condition')\n",
    "\n",
    "    submit_button = widgets.Button(description=\"Return\", style=button_style)\n",
    "\n",
    "    # Function to execute when Submit button is clicked\n",
    "    def on_submit(submit_btn):\n",
    "        bicID_input = bicycle_id_textbox.value\n",
    "        actual_return = return_date_textbox.value\n",
    "        cond_input = condition_dropdown.value.lower()\n",
    "        \n",
    "        # Call the BikeSearch function only after values are provided\n",
    "        out = BikeReturn().return_bike(database, bicycle_id = bicID_input, \n",
    "                                actual_return_date = actual_return, \n",
    "                                condition = cond_input)\n",
    "        with output:\n",
    "            display(out)\n",
    "        \n",
    "    # Link the on_submit function to the Submit button\n",
    "    submit_button.on_click(on_submit)\n",
    "    \n",
    "\n",
    "    return_vbox = widgets.VBox([message, bicycle_id_textbox, return_date_textbox, condition_dropdown, submit_button])\n",
    "    \n",
    "    with output:\n",
    "        output.clear_output()\n",
    "        display(return_vbox)\n",
    "\n",
    "\n",
    "def clicked_select(btn):\n",
    "    #could do a dropdown box here?\n",
    "    title = widgets.HTML(value='<h3>Select bikes for stock maintenance or expansion:</h3>')\n",
    "    message = widgets.HTML(value='<p>Choose what percentage you wish to allocate your budget to maintaing your inventory.<p> The rest of your budget then goes to expanding your inventory with new bikes.</p>')\n",
    "    budget_allocation = widgets.IntSlider(value=100, min=0, max=100, step=1,\n",
    "                                description='Percent:',\n",
    "                                disabled=False,\n",
    "                                continuous_update=False,\n",
    "                                orientation='horizontal',\n",
    "                                readout=True, readout_format='d')\n",
    "    \n",
    "    overall_budget = widgets.IntSlider(value=20000, min=550, max=20000, step=100,\n",
    "                                description='Budget £',\n",
    "                                disabled=False,\n",
    "                                continuous_update=False,\n",
    "                                orientation='horizontal',\n",
    "                                readout=True, readout_format='d')\n",
    "\n",
    "    submit_button = widgets.Button(description=\"Submit Search\", style=button_style)\n",
    "    \n",
    "    # Function to execute when Submit button is clicked\n",
    "    def on_submit(submit_btn):\n",
    "        budget_input = overall_budget.value\n",
    "        allocation_input = budget_allocation.value\n",
    "        # Call the BikeSearch function only after values are provided\n",
    "        out = BikeSelect(database).select(allocation=allocation_input, budget=budget_input)\n",
    "        with output:\n",
    "            display(out[0], out[1])\n",
    "            \n",
    "            img_message = widgets.HTML(value='<h3>See images below</h3>')\n",
    "            display(img_message)\n",
    "\n",
    "            #unpickle the series of photos\n",
    "            images = out[2].applymap(lambda x: pickle.loads(x))\n",
    "            \n",
    "            #display images\n",
    "            for img,idx in zip(images['photo'],images['photo'].index):\n",
    "                image = plt.imshow(img)\n",
    "                plt.title(f'Brand: {idx}', fontsize=14)\n",
    "                plt.axis('off')\n",
    "                plt.show()\n",
    "        \n",
    "    # Link the on_submit function to the Submit button\n",
    "    submit_button.on_click(on_submit)\n",
    "    with output:\n",
    "        output.clear_output()\n",
    "        display(title, message, overall_budget, budget_allocation, submit_button)\n",
    "\n",
    "\n",
    "def clicked_visualise(btn):\n",
    "    with output:\n",
    "        output.clear_output()\n",
    "        BikeSelect(database).visualise()\n",
    "        \n",
    "        message = widgets.HTML(value='<h3>See the model_ID key below: </h3>')\n",
    "        display(message)\n",
    "        display(BikeSelect(database).bicycle_models[['brand','type','size']])\n",
    "\n",
    "\n",
    "output=widgets.Output()\n",
    "\n",
    "display(widgets.HTML(value=\"<h1>Welcome to the Bicycle Rental Management System!</h1><h3>Please select an option below</h3>\"))\n",
    "\n",
    "buttons = {'Search': clicked_search , 'Rent' : clicked_rent, 'Return': clicked_return, 'Select' : clicked_select, 'Visualise':clicked_visualise}\n",
    "widgets_list=[]\n",
    "for btn, function in buttons.items():\n",
    "    btn = widgets.Button(description = btn, style=button_style)\n",
    "    btn.on_click(function)\n",
    "    widgets_list.append(btn)\n",
    "\n",
    "\n",
    "button_box = widgets.HBox(widgets_list)\n",
    "widgets.VBox([button_box, output])"
   ]
  },
  {
   "cell_type": "markdown",
   "id": "aec38b36-f110-4424-86b1-4b0fb9c6beb8",
   "metadata": {},
   "source": [
    "--------------------"
   ]
  }
 ],
 "metadata": {
  "kernelspec": {
   "display_name": "Python 3 (ipykernel)",
   "language": "python",
   "name": "python3"
  },
  "language_info": {
   "codemirror_mode": {
    "name": "ipython",
    "version": 3
   },
   "file_extension": ".py",
   "mimetype": "text/x-python",
   "name": "python",
   "nbconvert_exporter": "python",
   "pygments_lexer": "ipython3",
   "version": "3.11.5"
  }
 },
 "nbformat": 4,
 "nbformat_minor": 5
}
