{
 "cells": [
  {
   "cell_type": "markdown",
   "id": "7bd3e632",
   "metadata": {},
   "source": [
    "# COP501 CW"
   ]
  },
  {
   "cell_type": "code",
   "execution_count": 1,
   "id": "c7fc5398",
   "metadata": {},
   "outputs": [],
   "source": [
    "from database import *\n",
    "\n",
    "from bikeSearch import *\n",
    "from bikeRent import *\n",
    "from bikeReturn import *\n",
    "from bikeSelect import *\n",
    "\n",
    "import ipywidgets as widgets\n",
    "\n",
    "from datetime import date"
   ]
  },
  {
   "cell_type": "code",
   "execution_count": 2,
   "id": "7c4e288c",
   "metadata": {},
   "outputs": [
    {
     "name": "stdout",
     "output_type": "stream",
     "text": [
      "Connected to database9.db\n"
     ]
    }
   ],
   "source": [
    "database = Database('database9.db')"
   ]
  },
  {
   "cell_type": "code",
   "execution_count": 3,
   "id": "6c0929b3-c5e1-402d-86b6-8434baa689b2",
   "metadata": {},
   "outputs": [
    {
     "data": {
      "application/vnd.jupyter.widget-view+json": {
       "model_id": "31439c0e524f45be969c445a0508e9c8",
       "version_major": 2,
       "version_minor": 0
      },
      "text/plain": [
       "HTML(value='<h1>Welcome to the Bicycle Rental Management System!</h1><h4>Please select an option below</h4>')"
      ]
     },
     "metadata": {},
     "output_type": "display_data"
    },
    {
     "data": {
      "application/vnd.jupyter.widget-view+json": {
       "model_id": "713a5cca6d88461e96683a84d6b55b06",
       "version_major": 2,
       "version_minor": 0
      },
      "text/plain": [
       "VBox(children=(HBox(children=(Button(description='Search', style=ButtonStyle()), Button(description='Rent & Re…"
      ]
     },
     "execution_count": 3,
     "metadata": {},
     "output_type": "execute_result"
    }
   ],
   "source": [
    "def make_textbox(place_holder, descript):\n",
    "    textbox = widgets.Text(\n",
    "        value='',\n",
    "        placeholder=place_holder,\n",
    "        description=descript,\n",
    "        disabled=False\n",
    "    )\n",
    "    return textbox\n",
    "\n",
    "def clicked_search(btn):\n",
    "    message = widgets.HTML(value='<h3>Search by brand, type or size for bikes!</h3>')\n",
    "\n",
    "    search_term = widgets.Dropdown(options = ['Brand', 'Type', 'Size'],\n",
    "                                description = 'Search by:')\n",
    "\n",
    "    specific_search_term = widgets.Dropdown(options = ['Trek', 'Cannondale','Bianchi','Giant','Specialized'],\n",
    "                                            description = 'Select')\n",
    "\n",
    "    def update_specific_search_box(change):\n",
    "        if search_term.value.lower() == 'brand':\n",
    "            specific_search_term.options = ['Trek', 'Cannondale','Bianchi','Giant','Specialized']\n",
    "\n",
    "        elif search_term.value.lower() == 'type':\n",
    "            specific_search_term.options = ['Road Bike', 'Mountain Bike', 'Electric Bike']\n",
    "\n",
    "        else:\n",
    "            specific_search_term.options = ['Small', 'Medium', 'Large']\n",
    "\n",
    "        \n",
    "    search_term.observe(update_specific_search_box, names='value')\n",
    "\n",
    "    submit_button = widgets.Button(description=\"Submit Search\")\n",
    "    \n",
    "    # Function to execute when Submit button is clicked\n",
    "    def on_submit(submit_btn):\n",
    "        term_input = search_term.value.lower()\n",
    "        param_input = specific_search_term.value.lower()\n",
    "        # Call the BikeSearch function only after values are provided\n",
    "        out = BikeSearch().search(database, term=term_input, parameter=param_input)\n",
    "        with output:\n",
    "            display(out)\n",
    "        \n",
    "    # Link the on_submit function to the Submit button\n",
    "    submit_button.on_click(on_submit)\n",
    "    with output:\n",
    "        display(message, search_term, specific_search_term, submit_button)\n",
    "\n",
    "\n",
    "def clicked_rent_return(btn):\n",
    "    message = widgets.HTML(value='<h3>Rent your chosen bike:</h3>')\n",
    "    member_id_textbox = make_textbox(place_holder = 'e.g., 1001',\n",
    "                                     descript = 'Member ID:')\n",
    "    bicycle_id_textbox = make_textbox(place_holder = 'e.g., 10',\n",
    "                                      descript = 'Bicycle ID:')\n",
    "\n",
    "    rent_date_textbox = make_textbox(place_holder = 'Format YYYY/MM/DD',\n",
    "                                      descript = 'Rent date:')\n",
    "    days_textbox = make_textbox(place_holder = 'e.g., 10',\n",
    "                                      descript = 'No. of days?')\n",
    "\n",
    "    submit_rent_button = widgets.Button(description=\"Rent\")\n",
    "\n",
    "    \n",
    "    # Function to execute when Submit button is clicked\n",
    "    def on_submit(submit_btn):\n",
    "        memID_input = member_id_textbox.value\n",
    "        bicID_input = bicycle_id_textbox.value\n",
    "\n",
    "        rent_date = rent_date_textbox.value\n",
    "        rental_time = days_textbox.value\n",
    "        # Call the BikeSearch function only after values are provided\n",
    "        out = BikeRent().rent(database, member_id = memID_input, bicycle_id = bicID_input,\n",
    "                        rent_date_ = rent_date, rent_duration = rental_time)\n",
    "        with output:    \n",
    "            display(out)\n",
    "        \n",
    "    # Link the on_submit function to the Submit button\n",
    "    submit_rent_button.on_click(on_submit)\n",
    "    rent_vbox = widgets.VBox([message, member_id_textbox, bicycle_id_textbox, rent_date_textbox, days_textbox])\n",
    "\n",
    "    ##############################################################################################\n",
    "\n",
    "    message = widgets.HTML(value='<h3>Return your bike:</h3>')\n",
    "    bicycle_id_textbox = make_textbox(place_holder = 'e.g., 10',\n",
    "                                      descript = 'Bicycle ID:')\n",
    "\n",
    "    return_date_textbox = make_textbox(place_holder = 'Format YYYY/MM/DD',\n",
    "                                      descript = 'Return date')\n",
    "\n",
    "    condition_dropdown = widgets.Dropdown(options = ['New', 'Good', 'Damaged'],\n",
    "                                description = 'Condition')\n",
    "\n",
    "    submit_button = widgets.Button(description=\"Return\")\n",
    "\n",
    "    # Function to execute when Submit button is clicked\n",
    "    def on_submit(submit_btn):\n",
    "        bicID_input = bicycle_id_textbox.value\n",
    "        actual_return = return_date_textbox.value\n",
    "        cond_input = condition_dropdown.value.lower()\n",
    "        \n",
    "        # Call the BikeSearch function only after values are provided\n",
    "        out = BikeReturn().return_bike(database, bicycle_id = bicID_input, \n",
    "                                actual_return_date = actual_return, \n",
    "                                condition = cond_input)\n",
    "        with output:\n",
    "            display(out)\n",
    "        \n",
    "    # Link the on_submit function to the Submit button\n",
    "    submit_button.on_click(on_submit)\n",
    "    \n",
    "\n",
    "    return_vbox = widgets.VBox([message, bicycle_id_textbox, return_date_textbox, condition_dropdown])\n",
    "    submit_hbox = widgets.HBox([submit_rent_button, submit_button])\n",
    "    overall_output = widgets.HBox([rent_vbox, return_vbox])\n",
    "    \n",
    "    with output:\n",
    "        display(overall_output, submit_hbox)\n",
    "\n",
    "\n",
    "def clicked_select(btn):\n",
    "    #could do a dropdown box here?\n",
    "    title = widgets.HTML(value='<h3>Select bikes for stock maintenance or expansion:</h3>')\n",
    "    message = widgets.HTML(value='<p>Choose what percentage you wish to allocate your budget to maintaing your inventory.<p> The rest of your budget then goes to expanding your inventory with new bikes.</p>')\n",
    "    budget_allocation = widgets.IntSlider(value=100, min=0, max=100, step=1,\n",
    "                                description='Percent:',\n",
    "                                disabled=False,\n",
    "                                continuous_update=False,\n",
    "                                orientation='horizontal',\n",
    "                                readout=True, readout_format='d')\n",
    "    \n",
    "    overall_budget = widgets.IntSlider(value=20000, min=0, max=20000, step=100,\n",
    "                                description='Budget £',\n",
    "                                disabled=False,\n",
    "                                continuous_update=False,\n",
    "                                orientation='horizontal',\n",
    "                                readout=True, readout_format='d')\n",
    "\n",
    "    submit_button = widgets.Button(description=\"Submit Search\")\n",
    "    \n",
    "    # Function to execute when Submit button is clicked\n",
    "    def on_submit(submit_btn):\n",
    "        budget_input = overall_budget.value\n",
    "        allocation_input = budget_allocation.value\n",
    "        # Call the BikeSearch function only after values are provided\n",
    "        out = BikeSelect(database).select(database, allocation=allocation_input, budget=budget_input)\n",
    "        with output:\n",
    "            display(out[0], out[1])\n",
    "        \n",
    "    # Link the on_submit function to the Submit button\n",
    "    submit_button.on_click(on_submit)\n",
    "    with output:\n",
    "        display(title, message, overall_budget, budget_allocation, submit_button)\n",
    "\n",
    "\n",
    "def clicked_visualise(btn):\n",
    "    out = BikeSelect(database).visualise()\n",
    "\n",
    "   \n",
    "output=widgets.Output()\n",
    "\n",
    "display(widgets.HTML(value=\"<h1>Welcome to the Bicycle Rental Management System!</h1><h4>Please select an option below</h4>\"))\n",
    "\n",
    "buttons = {'Search': clicked_search , 'Rent & Return' : clicked_rent_return, 'Select' : clicked_select, 'Visualise':clicked_visualise}\n",
    "widgets_list=[]\n",
    "for btn, function in buttons.items():\n",
    "    btn = widgets.Button(description = btn)\n",
    "    btn.on_click(function)\n",
    "    widgets_list.append(btn)\n",
    "\n",
    "\n",
    "button_box = widgets.HBox(widgets_list)\n",
    "widgets.VBox([button_box, output])"
   ]
  },
  {
   "cell_type": "code",
   "execution_count": 4,
   "id": "79bc84e6",
   "metadata": {},
   "outputs": [],
   "source": [
    "# database = Database('database.db')\n",
    "# database.clear_db()"
   ]
  },
  {
   "cell_type": "code",
   "execution_count": 5,
   "id": "01a597a9",
   "metadata": {},
   "outputs": [],
   "source": [
    "# tables={'rental_hist': 'Rental_History.txt', 'bicycles': 'Bicycle_info.txt'}\n",
    "# for name,path in tables.items():\n",
    "#     database.create_table(name)\n",
    "#     database.clean_load_files_to_table(name, path)"
   ]
  },
  {
   "cell_type": "code",
   "execution_count": 6,
   "id": "90cf1dc2",
   "metadata": {},
   "outputs": [],
   "source": [
    "#BikeSearch().search(database, term = 'type', parameter = 'Mountain Bike')"
   ]
  }
 ],
 "metadata": {
  "kernelspec": {
   "display_name": "Python 3 (ipykernel)",
   "language": "python",
   "name": "python3"
  },
  "language_info": {
   "codemirror_mode": {
    "name": "ipython",
    "version": 3
   },
   "file_extension": ".py",
   "mimetype": "text/x-python",
   "name": "python",
   "nbconvert_exporter": "python",
   "pygments_lexer": "ipython3",
   "version": "3.11.5"
  }
 },
 "nbformat": 4,
 "nbformat_minor": 5
}
